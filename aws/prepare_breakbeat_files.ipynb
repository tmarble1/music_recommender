{
 "cells": [
  {
   "cell_type": "markdown",
   "metadata": {},
   "source": [
    "### Imports"
   ]
  },
  {
   "cell_type": "code",
   "execution_count": 1,
   "metadata": {
    "collapsed": true
   },
   "outputs": [],
   "source": [
    "import os\n",
    "import glob\n",
    "import pandas as pd\n",
    "import shutil"
   ]
  },
  {
   "cell_type": "markdown",
   "metadata": {},
   "source": [
    "#### Get list of files in breakbeat folder"
   ]
  },
  {
   "cell_type": "code",
   "execution_count": 2,
   "metadata": {
    "collapsed": false
   },
   "outputs": [],
   "source": [
    "file_list = os.listdir('data/breakbeat')"
   ]
  },
  {
   "cell_type": "markdown",
   "metadata": {},
   "source": [
    "Split file name into its relevant information"
   ]
  },
  {
   "cell_type": "code",
   "execution_count": 3,
   "metadata": {
    "collapsed": false
   },
   "outputs": [],
   "source": [
    "split_file_name = file_list[0].split('__')\n",
    "genre = split_file_name[0]\n",
    "track_id = split_file_name[1]\n",
    "spectro_id = split_file_name[2].split('.')[0]"
   ]
  },
  {
   "cell_type": "code",
   "execution_count": 4,
   "metadata": {
    "collapsed": false
   },
   "outputs": [],
   "source": [
    "list_of_files = []\n",
    "for f in file_list:\n",
    "    split_f = f.split('__')\n",
    "    genre = split_f[0]\n",
    "    track_id = split_f[1]\n",
    "    spectro_id = split_f[2].split('.')[0]\n",
    "    file_name = f\n",
    "    \n",
    "    track_dict = {\n",
    "        'file_name':file_name,\n",
    "        'track_id':track_id,\n",
    "        'genre':genre,\n",
    "        'spectro_id':spectro_id}\n",
    "    \n",
    "    list_of_files.append(track_dict)"
   ]
  },
  {
   "cell_type": "code",
   "execution_count": 5,
   "metadata": {
    "collapsed": false
   },
   "outputs": [
    {
     "data": {
      "text/plain": [
       "{'file_name': 'breakbeat__100035__000.png',\n",
       " 'genre': 'breakbeat',\n",
       " 'spectro_id': '000',\n",
       " 'track_id': '100035'}"
      ]
     },
     "execution_count": 5,
     "metadata": {},
     "output_type": "execute_result"
    }
   ],
   "source": [
    "list_of_files[0]"
   ]
  },
  {
   "cell_type": "markdown",
   "metadata": {},
   "source": [
    "#### Move data to DataFrame"
   ]
  },
  {
   "cell_type": "code",
   "execution_count": 6,
   "metadata": {
    "collapsed": true
   },
   "outputs": [],
   "source": [
    "df = pd.DataFrame(list_of_files)"
   ]
  },
  {
   "cell_type": "code",
   "execution_count": 7,
   "metadata": {
    "collapsed": false
   },
   "outputs": [
    {
     "data": {
      "text/html": [
       "<div>\n",
       "<table border=\"1\" class=\"dataframe\">\n",
       "  <thead>\n",
       "    <tr style=\"text-align: right;\">\n",
       "      <th></th>\n",
       "      <th>file_name</th>\n",
       "      <th>genre</th>\n",
       "      <th>spectro_id</th>\n",
       "      <th>track_id</th>\n",
       "    </tr>\n",
       "  </thead>\n",
       "  <tbody>\n",
       "    <tr>\n",
       "      <th>17794</th>\n",
       "      <td>breakbeat__409478__022.png</td>\n",
       "      <td>breakbeat</td>\n",
       "      <td>022</td>\n",
       "      <td>409478</td>\n",
       "    </tr>\n",
       "    <tr>\n",
       "      <th>1724</th>\n",
       "      <td>breakbeat__15013__002.png</td>\n",
       "      <td>breakbeat</td>\n",
       "      <td>002</td>\n",
       "      <td>15013</td>\n",
       "    </tr>\n",
       "    <tr>\n",
       "      <th>5547</th>\n",
       "      <td>breakbeat__203475__006.png</td>\n",
       "      <td>breakbeat</td>\n",
       "      <td>006</td>\n",
       "      <td>203475</td>\n",
       "    </tr>\n",
       "    <tr>\n",
       "      <th>230</th>\n",
       "      <td>breakbeat__108357__012.png</td>\n",
       "      <td>breakbeat</td>\n",
       "      <td>012</td>\n",
       "      <td>108357</td>\n",
       "    </tr>\n",
       "    <tr>\n",
       "      <th>21953</th>\n",
       "      <td>breakbeat__98266__016.png</td>\n",
       "      <td>breakbeat</td>\n",
       "      <td>016</td>\n",
       "      <td>98266</td>\n",
       "    </tr>\n",
       "  </tbody>\n",
       "</table>\n",
       "</div>"
      ],
      "text/plain": [
       "                        file_name      genre spectro_id track_id\n",
       "17794  breakbeat__409478__022.png  breakbeat        022   409478\n",
       "1724    breakbeat__15013__002.png  breakbeat        002    15013\n",
       "5547   breakbeat__203475__006.png  breakbeat        006   203475\n",
       "230    breakbeat__108357__012.png  breakbeat        012   108357\n",
       "21953   breakbeat__98266__016.png  breakbeat        016    98266"
      ]
     },
     "execution_count": 7,
     "metadata": {},
     "output_type": "execute_result"
    }
   ],
   "source": [
    "df.sample(5)"
   ]
  },
  {
   "cell_type": "markdown",
   "metadata": {},
   "source": [
    "#### Calculate the number of spectrograms for each unique track"
   ]
  },
  {
   "cell_type": "code",
   "execution_count": 8,
   "metadata": {
    "collapsed": false
   },
   "outputs": [],
   "source": [
    "num_files = df.groupby('track_id')['file_name'].count().reset_index()\n",
    "num_files.columns = ['track_id','num_spectro']"
   ]
  },
  {
   "cell_type": "code",
   "execution_count": 9,
   "metadata": {
    "collapsed": false
   },
   "outputs": [
    {
     "data": {
      "text/html": [
       "<div>\n",
       "<table border=\"1\" class=\"dataframe\">\n",
       "  <thead>\n",
       "    <tr style=\"text-align: right;\">\n",
       "      <th></th>\n",
       "      <th>track_id</th>\n",
       "      <th>num_spectro</th>\n",
       "    </tr>\n",
       "  </thead>\n",
       "  <tbody>\n",
       "    <tr>\n",
       "      <th>0</th>\n",
       "      <td>100035</td>\n",
       "      <td>17</td>\n",
       "    </tr>\n",
       "    <tr>\n",
       "      <th>1</th>\n",
       "      <td>10052</td>\n",
       "      <td>23</td>\n",
       "    </tr>\n",
       "    <tr>\n",
       "      <th>2</th>\n",
       "      <td>10073</td>\n",
       "      <td>23</td>\n",
       "    </tr>\n",
       "    <tr>\n",
       "      <th>3</th>\n",
       "      <td>10077</td>\n",
       "      <td>23</td>\n",
       "    </tr>\n",
       "    <tr>\n",
       "      <th>4</th>\n",
       "      <td>102675</td>\n",
       "      <td>17</td>\n",
       "    </tr>\n",
       "  </tbody>\n",
       "</table>\n",
       "</div>"
      ],
      "text/plain": [
       "  track_id  num_spectro\n",
       "0   100035           17\n",
       "1    10052           23\n",
       "2    10073           23\n",
       "3    10077           23\n",
       "4   102675           17"
      ]
     },
     "execution_count": 9,
     "metadata": {},
     "output_type": "execute_result"
    }
   ],
   "source": [
    "num_files.head()"
   ]
  },
  {
   "cell_type": "markdown",
   "metadata": {},
   "source": [
    "#### Work out the number of files needed in the train, validation and holdout folders"
   ]
  },
  {
   "cell_type": "code",
   "execution_count": 10,
   "metadata": {
    "collapsed": false
   },
   "outputs": [],
   "source": [
    "total_num_files = num_files['num_spectro'].sum()"
   ]
  },
  {
   "cell_type": "code",
   "execution_count": 11,
   "metadata": {
    "collapsed": true
   },
   "outputs": [],
   "source": [
    "train_pct = 0.65\n",
    "validation_pct = 0.25\n",
    "holdout_pct = 0.1"
   ]
  },
  {
   "cell_type": "code",
   "execution_count": 12,
   "metadata": {
    "collapsed": false
   },
   "outputs": [],
   "source": [
    "train_image_threshold = int(train_pct * total_num_files)\n",
    "validation_image_threshold = int(validation_pct * total_num_files)"
   ]
  },
  {
   "cell_type": "code",
   "execution_count": 13,
   "metadata": {
    "collapsed": false
   },
   "outputs": [],
   "source": [
    "tracks_dict = dict(zip(num_files['track_id'], num_files['num_spectro']))"
   ]
  },
  {
   "cell_type": "markdown",
   "metadata": {},
   "source": [
    "#### Loop through tracks_dict and make a note of track IDs that will go into the train dataset"
   ]
  },
  {
   "cell_type": "code",
   "execution_count": 14,
   "metadata": {
    "collapsed": false
   },
   "outputs": [],
   "source": [
    "count = 0\n",
    "train_ids = []\n",
    "for key, value in tracks_dict.items():\n",
    "    count += value\n",
    "    if count <= train_image_threshold:\n",
    "        train_ids.append((key, value))"
   ]
  },
  {
   "cell_type": "markdown",
   "metadata": {},
   "source": [
    "Then remove these track id's from the dict..."
   ]
  },
  {
   "cell_type": "code",
   "execution_count": 15,
   "metadata": {
    "collapsed": false
   },
   "outputs": [],
   "source": [
    "for item in train_ids:\n",
    "    tracks_dict.pop(item[0], None)"
   ]
  },
  {
   "cell_type": "markdown",
   "metadata": {},
   "source": [
    "#### Do the same for the validation set"
   ]
  },
  {
   "cell_type": "code",
   "execution_count": 16,
   "metadata": {
    "collapsed": true
   },
   "outputs": [],
   "source": [
    "count = 0\n",
    "validation_ids = []\n",
    "for key, value in tracks_dict.items():\n",
    "    count += value\n",
    "    if count <= validation_image_threshold:\n",
    "        validation_ids.append((key, value))"
   ]
  },
  {
   "cell_type": "code",
   "execution_count": 17,
   "metadata": {
    "collapsed": false
   },
   "outputs": [],
   "source": [
    "for item in validation_ids:\n",
    "    tracks_dict.pop(item[0], None)"
   ]
  },
  {
   "cell_type": "markdown",
   "metadata": {},
   "source": [
    "#### Then move the rest into the holdout set"
   ]
  },
  {
   "cell_type": "code",
   "execution_count": 18,
   "metadata": {
    "collapsed": true
   },
   "outputs": [],
   "source": [
    "holdout_ids = []\n",
    "for key, value in tracks_dict.items():\n",
    "    holdout_ids.append((key, value))"
   ]
  },
  {
   "cell_type": "markdown",
   "metadata": {},
   "source": [
    "Number of tracks in each set..."
   ]
  },
  {
   "cell_type": "code",
   "execution_count": 19,
   "metadata": {
    "collapsed": false
   },
   "outputs": [
    {
     "name": "stdout",
     "output_type": "stream",
     "text": [
      "647\n",
      "250\n",
      "98\n"
     ]
    }
   ],
   "source": [
    "print(len(train_ids))\n",
    "print(len(validation_ids))\n",
    "print(len(holdout_ids))"
   ]
  },
  {
   "cell_type": "markdown",
   "metadata": {},
   "source": [
    "#### Create directories for train/breakbeat, validation/breakbeat and holdout/breakbeat if they don't exist"
   ]
  },
  {
   "cell_type": "code",
   "execution_count": 20,
   "metadata": {
    "collapsed": false
   },
   "outputs": [],
   "source": [
    "if not os.path.exists('data/train/breakbeat'):\n",
    "    os.makedirs('data/train/breakbeat')\n",
    "\n",
    "if not os.path.exists('data/validation/breakbeat'):\n",
    "    os.makedirs('data/validation/breakbeat')\n",
    "\n",
    "if not os.path.exists('data/holdout/breakbeat'):\n",
    "    os.makedirs('data/holdout/breakbeat')"
   ]
  },
  {
   "cell_type": "markdown",
   "metadata": {},
   "source": [
    "#### Move train files from data/breakbeat to data/train/breakbeat"
   ]
  },
  {
   "cell_type": "code",
   "execution_count": 21,
   "metadata": {
    "collapsed": false
   },
   "outputs": [],
   "source": [
    "for t in train_ids:\n",
    "    files_to_move = list(df[df['track_id'] == t[0]]['file_name'])\n",
    "    for f in files_to_move:\n",
    "        src = 'data/breakbeat/{}'.format(f)\n",
    "        dst = 'data/train/breakbeat/{}'.format(f)\n",
    "        shutil.move(src, dst)"
   ]
  },
  {
   "cell_type": "markdown",
   "metadata": {},
   "source": [
    "#### Move validation files from data/breakbeat to data/validation/breakbeat"
   ]
  },
  {
   "cell_type": "code",
   "execution_count": 22,
   "metadata": {
    "collapsed": true
   },
   "outputs": [],
   "source": [
    "for t in validation_ids:\n",
    "    files_to_move = list(df[df['track_id'] == t[0]]['file_name'])\n",
    "    for f in files_to_move:\n",
    "        src = 'data/breakbeat/{}'.format(f)\n",
    "        dst = 'data/validation/breakbeat/{}'.format(f)\n",
    "        shutil.move(src, dst)"
   ]
  },
  {
   "cell_type": "markdown",
   "metadata": {},
   "source": [
    "#### And finally the holdout files..."
   ]
  },
  {
   "cell_type": "code",
   "execution_count": 23,
   "metadata": {
    "collapsed": true
   },
   "outputs": [],
   "source": [
    "for t in holdout_ids:\n",
    "    files_to_move = list(df[df['track_id'] == t[0]]['file_name'])\n",
    "    for f in files_to_move:\n",
    "        src = 'data/breakbeat/{}'.format(f)\n",
    "        dst = 'data/holdout/breakbeat/{}'.format(f)\n",
    "        shutil.move(src, dst)"
   ]
  }
 ],
 "metadata": {
  "kernelspec": {
   "display_name": "Python 3",
   "language": "python",
   "name": "python3"
  },
  "language_info": {
   "codemirror_mode": {
    "name": "ipython",
    "version": 3
   },
   "file_extension": ".py",
   "mimetype": "text/x-python",
   "name": "python",
   "nbconvert_exporter": "python",
   "pygments_lexer": "ipython3",
   "version": "3.6.0"
  }
 },
 "nbformat": 4,
 "nbformat_minor": 2
}
