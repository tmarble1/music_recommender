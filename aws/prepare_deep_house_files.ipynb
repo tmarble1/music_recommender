{
 "cells": [
  {
   "cell_type": "markdown",
   "metadata": {
    "deletable": true,
    "editable": true
   },
   "source": [
    "### Imports"
   ]
  },
  {
   "cell_type": "code",
   "execution_count": 6,
   "metadata": {
    "collapsed": true,
    "deletable": true,
    "editable": true
   },
   "outputs": [],
   "source": [
    "import os\n",
    "import glob\n",
    "import pandas as pd\n",
    "import shutil\n",
    "from boto.s3.connection import S3Connection\n",
    "from boto.s3.key import Key"
   ]
  },
  {
   "cell_type": "markdown",
   "metadata": {
    "deletable": true,
    "editable": true
   },
   "source": [
    "#### Get list of files in genre folder"
   ]
  },
  {
   "cell_type": "code",
   "execution_count": 18,
   "metadata": {
    "collapsed": true
   },
   "outputs": [],
   "source": [
    "s3dir = '~/home/ubuntu/s3bucket'\n",
    "data_dir = '~/home/ubuntu/Notebooks/data'"
   ]
  },
  {
   "cell_type": "code",
   "execution_count": 2,
   "metadata": {
    "collapsed": true,
    "deletable": true,
    "editable": true
   },
   "outputs": [],
   "source": [
    "genre_name = 'deep_house'"
   ]
  },
  {
   "cell_type": "code",
   "execution_count": 3,
   "metadata": {
    "collapsed": false,
    "deletable": true,
    "editable": true
   },
   "outputs": [],
   "source": [
    "file_list = os.listdir('data/{}'.format(genre_name))"
   ]
  },
  {
   "cell_type": "markdown",
   "metadata": {
    "deletable": true,
    "editable": true
   },
   "source": [
    "Split file name into its relevant information"
   ]
  },
  {
   "cell_type": "code",
   "execution_count": 4,
   "metadata": {
    "collapsed": false,
    "deletable": true,
    "editable": true
   },
   "outputs": [],
   "source": [
    "split_file_name = file_list[0].split('__')\n",
    "genre = split_file_name[0]\n",
    "track_id = split_file_name[1]\n",
    "spectro_id = split_file_name[2].split('.')[0]"
   ]
  },
  {
   "cell_type": "code",
   "execution_count": 5,
   "metadata": {
    "collapsed": false,
    "deletable": true,
    "editable": true
   },
   "outputs": [],
   "source": [
    "list_of_files = []\n",
    "for f in file_list:\n",
    "    split_f = f.split('__')\n",
    "    genre = split_f[0]\n",
    "    track_id = split_f[1]\n",
    "    spectro_id = split_f[2].split('.')[0]\n",
    "    file_name = f\n",
    "    \n",
    "    track_dict = {\n",
    "        'file_name':file_name,\n",
    "        'track_id':track_id,\n",
    "        'genre':genre,\n",
    "        'spectro_id':spectro_id}\n",
    "    \n",
    "    list_of_files.append(track_dict)"
   ]
  },
  {
   "cell_type": "code",
   "execution_count": 6,
   "metadata": {
    "collapsed": false,
    "deletable": true,
    "editable": true
   },
   "outputs": [
    {
     "data": {
      "text/plain": [
       "{'file_name': 'dancehall_ragga__101011__000.png',\n",
       " 'genre': 'dancehall_ragga',\n",
       " 'spectro_id': '000',\n",
       " 'track_id': '101011'}"
      ]
     },
     "execution_count": 6,
     "metadata": {},
     "output_type": "execute_result"
    }
   ],
   "source": [
    "list_of_files[0]"
   ]
  },
  {
   "cell_type": "markdown",
   "metadata": {
    "deletable": true,
    "editable": true
   },
   "source": [
    "#### Move data to DataFrame"
   ]
  },
  {
   "cell_type": "code",
   "execution_count": 7,
   "metadata": {
    "collapsed": true,
    "deletable": true,
    "editable": true
   },
   "outputs": [],
   "source": [
    "df = pd.DataFrame(list_of_files)"
   ]
  },
  {
   "cell_type": "code",
   "execution_count": 8,
   "metadata": {
    "collapsed": false,
    "deletable": true,
    "editable": true
   },
   "outputs": [
    {
     "data": {
      "text/html": [
       "<div>\n",
       "<table border=\"1\" class=\"dataframe\">\n",
       "  <thead>\n",
       "    <tr style=\"text-align: right;\">\n",
       "      <th></th>\n",
       "      <th>file_name</th>\n",
       "      <th>genre</th>\n",
       "      <th>spectro_id</th>\n",
       "      <th>track_id</th>\n",
       "    </tr>\n",
       "  </thead>\n",
       "  <tbody>\n",
       "    <tr>\n",
       "      <th>3877</th>\n",
       "      <td>dancehall_ragga__206627__012.png</td>\n",
       "      <td>dancehall_ragga</td>\n",
       "      <td>012</td>\n",
       "      <td>206627</td>\n",
       "    </tr>\n",
       "    <tr>\n",
       "      <th>8174</th>\n",
       "      <td>dancehall_ragga__261283__011.png</td>\n",
       "      <td>dancehall_ragga</td>\n",
       "      <td>011</td>\n",
       "      <td>261283</td>\n",
       "    </tr>\n",
       "    <tr>\n",
       "      <th>4365</th>\n",
       "      <td>dancehall_ragga__215565__017.png</td>\n",
       "      <td>dancehall_ragga</td>\n",
       "      <td>017</td>\n",
       "      <td>215565</td>\n",
       "    </tr>\n",
       "    <tr>\n",
       "      <th>17010</th>\n",
       "      <td>dancehall_ragga__407318__000.png</td>\n",
       "      <td>dancehall_ragga</td>\n",
       "      <td>000</td>\n",
       "      <td>407318</td>\n",
       "    </tr>\n",
       "    <tr>\n",
       "      <th>6719</th>\n",
       "      <td>dancehall_ragga__239718__002.png</td>\n",
       "      <td>dancehall_ragga</td>\n",
       "      <td>002</td>\n",
       "      <td>239718</td>\n",
       "    </tr>\n",
       "  </tbody>\n",
       "</table>\n",
       "</div>"
      ],
      "text/plain": [
       "                              file_name            genre spectro_id track_id\n",
       "3877   dancehall_ragga__206627__012.png  dancehall_ragga        012   206627\n",
       "8174   dancehall_ragga__261283__011.png  dancehall_ragga        011   261283\n",
       "4365   dancehall_ragga__215565__017.png  dancehall_ragga        017   215565\n",
       "17010  dancehall_ragga__407318__000.png  dancehall_ragga        000   407318\n",
       "6719   dancehall_ragga__239718__002.png  dancehall_ragga        002   239718"
      ]
     },
     "execution_count": 8,
     "metadata": {},
     "output_type": "execute_result"
    }
   ],
   "source": [
    "df.sample(5)"
   ]
  },
  {
   "cell_type": "markdown",
   "metadata": {
    "deletable": true,
    "editable": true
   },
   "source": [
    "#### Calculate the number of spectrograms for each unique track"
   ]
  },
  {
   "cell_type": "code",
   "execution_count": 9,
   "metadata": {
    "collapsed": false,
    "deletable": true,
    "editable": true
   },
   "outputs": [],
   "source": [
    "num_files = df.groupby('track_id')['file_name'].count().reset_index()\n",
    "num_files.columns = ['track_id','num_spectro']"
   ]
  },
  {
   "cell_type": "code",
   "execution_count": 10,
   "metadata": {
    "collapsed": false,
    "deletable": true,
    "editable": true
   },
   "outputs": [
    {
     "data": {
      "text/html": [
       "<div>\n",
       "<table border=\"1\" class=\"dataframe\">\n",
       "  <thead>\n",
       "    <tr style=\"text-align: right;\">\n",
       "      <th></th>\n",
       "      <th>track_id</th>\n",
       "      <th>num_spectro</th>\n",
       "    </tr>\n",
       "  </thead>\n",
       "  <tbody>\n",
       "    <tr>\n",
       "      <th>0</th>\n",
       "      <td>101011</td>\n",
       "      <td>23</td>\n",
       "    </tr>\n",
       "    <tr>\n",
       "      <th>1</th>\n",
       "      <td>101053</td>\n",
       "      <td>23</td>\n",
       "    </tr>\n",
       "    <tr>\n",
       "      <th>2</th>\n",
       "      <td>104703</td>\n",
       "      <td>23</td>\n",
       "    </tr>\n",
       "    <tr>\n",
       "      <th>3</th>\n",
       "      <td>109111</td>\n",
       "      <td>23</td>\n",
       "    </tr>\n",
       "    <tr>\n",
       "      <th>4</th>\n",
       "      <td>109112</td>\n",
       "      <td>23</td>\n",
       "    </tr>\n",
       "  </tbody>\n",
       "</table>\n",
       "</div>"
      ],
      "text/plain": [
       "  track_id  num_spectro\n",
       "0   101011           23\n",
       "1   101053           23\n",
       "2   104703           23\n",
       "3   109111           23\n",
       "4   109112           23"
      ]
     },
     "execution_count": 10,
     "metadata": {},
     "output_type": "execute_result"
    }
   ],
   "source": [
    "num_files.head()"
   ]
  },
  {
   "cell_type": "markdown",
   "metadata": {
    "deletable": true,
    "editable": true
   },
   "source": [
    "#### Work out the number of files needed in the train, validation and holdout folders"
   ]
  },
  {
   "cell_type": "code",
   "execution_count": 11,
   "metadata": {
    "collapsed": false,
    "deletable": true,
    "editable": true
   },
   "outputs": [],
   "source": [
    "total_num_files = num_files['num_spectro'].sum()"
   ]
  },
  {
   "cell_type": "code",
   "execution_count": 12,
   "metadata": {
    "collapsed": true,
    "deletable": true,
    "editable": true
   },
   "outputs": [],
   "source": [
    "train_pct = 0.65\n",
    "validation_pct = 0.25\n",
    "holdout_pct = 0.1"
   ]
  },
  {
   "cell_type": "code",
   "execution_count": 13,
   "metadata": {
    "collapsed": false,
    "deletable": true,
    "editable": true
   },
   "outputs": [],
   "source": [
    "train_image_threshold = int(train_pct * total_num_files)\n",
    "validation_image_threshold = int(validation_pct * total_num_files)"
   ]
  },
  {
   "cell_type": "code",
   "execution_count": 14,
   "metadata": {
    "collapsed": false,
    "deletable": true,
    "editable": true
   },
   "outputs": [],
   "source": [
    "tracks_dict = dict(zip(num_files['track_id'], num_files['num_spectro']))"
   ]
  },
  {
   "cell_type": "markdown",
   "metadata": {
    "deletable": true,
    "editable": true
   },
   "source": [
    "#### Loop through tracks_dict and make a note of track IDs that will go into the train dataset"
   ]
  },
  {
   "cell_type": "code",
   "execution_count": 15,
   "metadata": {
    "collapsed": false,
    "deletable": true,
    "editable": true
   },
   "outputs": [],
   "source": [
    "count = 0\n",
    "train_ids = []\n",
    "for key, value in tracks_dict.items():\n",
    "    count += value\n",
    "    if count <= train_image_threshold:\n",
    "        train_ids.append((key, value))"
   ]
  },
  {
   "cell_type": "markdown",
   "metadata": {
    "deletable": true,
    "editable": true
   },
   "source": [
    "Then remove these track id's from the dict..."
   ]
  },
  {
   "cell_type": "code",
   "execution_count": 16,
   "metadata": {
    "collapsed": false,
    "deletable": true,
    "editable": true
   },
   "outputs": [],
   "source": [
    "for item in train_ids:\n",
    "    tracks_dict.pop(item[0], None)"
   ]
  },
  {
   "cell_type": "markdown",
   "metadata": {
    "deletable": true,
    "editable": true
   },
   "source": [
    "#### Do the same for the validation set"
   ]
  },
  {
   "cell_type": "code",
   "execution_count": 17,
   "metadata": {
    "collapsed": true,
    "deletable": true,
    "editable": true
   },
   "outputs": [],
   "source": [
    "count = 0\n",
    "validation_ids = []\n",
    "for key, value in tracks_dict.items():\n",
    "    count += value\n",
    "    if count <= validation_image_threshold:\n",
    "        validation_ids.append((key, value))"
   ]
  },
  {
   "cell_type": "code",
   "execution_count": 18,
   "metadata": {
    "collapsed": false,
    "deletable": true,
    "editable": true
   },
   "outputs": [],
   "source": [
    "for item in validation_ids:\n",
    "    tracks_dict.pop(item[0], None)"
   ]
  },
  {
   "cell_type": "markdown",
   "metadata": {
    "deletable": true,
    "editable": true
   },
   "source": [
    "#### Then move the rest into the holdout set"
   ]
  },
  {
   "cell_type": "code",
   "execution_count": 19,
   "metadata": {
    "collapsed": true,
    "deletable": true,
    "editable": true
   },
   "outputs": [],
   "source": [
    "holdout_ids = []\n",
    "for key, value in tracks_dict.items():\n",
    "    holdout_ids.append((key, value))"
   ]
  },
  {
   "cell_type": "markdown",
   "metadata": {
    "deletable": true,
    "editable": true
   },
   "source": [
    "Number of tracks in each set..."
   ]
  },
  {
   "cell_type": "code",
   "execution_count": 20,
   "metadata": {
    "collapsed": false,
    "deletable": true,
    "editable": true
   },
   "outputs": [
    {
     "name": "stdout",
     "output_type": "stream",
     "text": [
      "643\n",
      "248\n",
      "100\n"
     ]
    }
   ],
   "source": [
    "print(len(train_ids))\n",
    "print(len(validation_ids))\n",
    "print(len(holdout_ids))"
   ]
  },
  {
   "cell_type": "markdown",
   "metadata": {
    "deletable": true,
    "editable": true
   },
   "source": [
    "#### Create directories for train/breakbeat, validation/breakbeat and holdout/breakbeat if they don't exist"
   ]
  },
  {
   "cell_type": "code",
   "execution_count": 21,
   "metadata": {
    "collapsed": false,
    "deletable": true,
    "editable": true
   },
   "outputs": [],
   "source": [
    "train_dir = 'data/train/{}'.format(genre_name)\n",
    "validation_dir = 'data/validation/{}'.format(genre_name)\n",
    "holdout_dir = 'data/holdout/{}'.format(genre_name)\n",
    "\n",
    "\n",
    "if not os.path.exists(train_dir):\n",
    "    os.makedirs(train_dir)\n",
    "\n",
    "if not os.path.exists(validation_dir):\n",
    "    os.makedirs(validation_dir)\n",
    "\n",
    "if not os.path.exists(holdout_dir):\n",
    "    os.makedirs(holdout_dir)"
   ]
  },
  {
   "cell_type": "markdown",
   "metadata": {
    "deletable": true,
    "editable": true
   },
   "source": [
    "#### Move train files from data/breakbeat to data/train/breakbeat"
   ]
  },
  {
   "cell_type": "code",
   "execution_count": 22,
   "metadata": {
    "collapsed": false,
    "deletable": true,
    "editable": true
   },
   "outputs": [],
   "source": [
    "for t in train_ids:\n",
    "    files_to_move = list(df[df['track_id'] == t[0]]['file_name'])\n",
    "    for f in files_to_move:\n",
    "        src = 'data/{}/{}'.format(genre_name, f)\n",
    "        dst = 'data/train/{}/{}'.format(genre_name, f)\n",
    "        shutil.move(src, dst)"
   ]
  },
  {
   "cell_type": "markdown",
   "metadata": {
    "deletable": true,
    "editable": true
   },
   "source": [
    "#### Move validation files from data/breakbeat to data/validation/breakbeat"
   ]
  },
  {
   "cell_type": "code",
   "execution_count": 23,
   "metadata": {
    "collapsed": true,
    "deletable": true,
    "editable": true
   },
   "outputs": [],
   "source": [
    "for t in validation_ids:\n",
    "    files_to_move = list(df[df['track_id'] == t[0]]['file_name'])\n",
    "    for f in files_to_move:\n",
    "        src = 'data/{}/{}'.format(genre_name, f)\n",
    "        dst = 'data/validation/{}/{}'.format(genre_name, f)\n",
    "        shutil.move(src, dst)"
   ]
  },
  {
   "cell_type": "markdown",
   "metadata": {
    "deletable": true,
    "editable": true
   },
   "source": [
    "#### And finally the holdout files..."
   ]
  },
  {
   "cell_type": "code",
   "execution_count": 25,
   "metadata": {
    "collapsed": false,
    "deletable": true,
    "editable": true
   },
   "outputs": [],
   "source": [
    "for t in holdout_ids:\n",
    "    files_to_move = list(df[df['track_id'] == t[0]]['file_name'])\n",
    "    for f in files_to_move:\n",
    "        src = 'data/{}/{}'.format(genre_name, f)\n",
    "        dst = 'data/holdout/{}/{}'.format(genre_name, f)\n",
    "        shutil.move(src, dst)"
   ]
  },
  {
   "cell_type": "code",
   "execution_count": null,
   "metadata": {
    "collapsed": true,
    "deletable": true,
    "editable": true
   },
   "outputs": [],
   "source": []
  }
 ],
 "metadata": {
  "kernelspec": {
   "display_name": "Python 3",
   "language": "python",
   "name": "python3"
  },
  "language_info": {
   "codemirror_mode": {
    "name": "ipython",
    "version": 3
   },
   "file_extension": ".py",
   "mimetype": "text/x-python",
   "name": "python",
   "nbconvert_exporter": "python",
   "pygments_lexer": "ipython3",
   "version": "3.6.0"
  }
 },
 "nbformat": 4,
 "nbformat_minor": 2
}
